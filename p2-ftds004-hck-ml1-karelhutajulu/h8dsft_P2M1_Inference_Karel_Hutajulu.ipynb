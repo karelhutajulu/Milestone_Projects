{
  "nbformat": 4,
  "nbformat_minor": 0,
  "metadata": {
    "colab": {
      "provenance": []
    },
    "kernelspec": {
      "name": "python3",
      "display_name": "Python 3"
    },
    "language_info": {
      "name": "python"
    }
  },
  "cells": [
    {
      "cell_type": "markdown",
      "source": [
        "## 1. Import necessary libraries"
      ],
      "metadata": {
        "id": "86mjNXKWXHsb"
      }
    },
    {
      "cell_type": "code",
      "execution_count": 9,
      "metadata": {
        "id": "BLhunEspW3N3"
      },
      "outputs": [],
      "source": [
        "import pandas as pd\n",
        "import pickle\n",
        "import numpy as np"
      ]
    },
    {
      "cell_type": "markdown",
      "source": [
        "## 2. Load the preprocessing pipeline and ANN model"
      ],
      "metadata": {
        "id": "CQwl2GDEYAkZ"
      }
    },
    {
      "cell_type": "code",
      "source": [
        "with open('/content/preprocessing_pipeline.pkl', 'rb') as f:\n",
        "    preprocessing_pipeline = pickle.load(f)\n",
        "\n",
        "with open('/content/ann_best.pkl', 'rb') as f:\n",
        "    ann_model = pickle.load(f)"
      ],
      "metadata": {
        "id": "xMUpqE4PYCc9"
      },
      "execution_count": 4,
      "outputs": []
    },
    {
      "cell_type": "markdown",
      "source": [
        "## 3. Create sample data"
      ],
      "metadata": {
        "id": "aUAwCd15YHmF"
      }
    },
    {
      "cell_type": "code",
      "source": [
        "data = {\n",
        "        'age': [28, 35, 42, 29, 55],\n",
        "        'gender': ['M', 'F', 'M', 'F', 'M'],\n",
        "        'region_category': ['City', 'Village', 'Town', 'City', 'Town'],\n",
        "        'membership_category': ['Basic Membership', 'Platinum Membership', 'Gold Membership', 'Silver Membership', 'Basic Membership'],\n",
        "        'joining_date': [6000,6200,6400,5900,6400],\n",
        "        'joined_through_referral': ['Yes', 'No', 'Yes', 'Yes', 'No'],\n",
        "        'preferred_offer_types': ['Gift Vouchers/Coupons', 'Credit/Debit Card Offers', 'Without Offers', 'Gift Vouchers/Coupons', 'Without Offers'],\n",
        "        'medium_of_operation': ['Desktop', 'Smartphone', 'Desktop', 'Smartphone', 'Smartphone'],\n",
        "        'internet_option': ['Wi-Fi', 'Mobile_Data', 'Fiber_Optic', 'Mobile_Data', 'Fiber_Optic'],\n",
        "        'last_visit_time': [800,900,1000,800,950],\n",
        "        'days_since_last_login': [2, 15, 7, 3, 10],\n",
        "        'avg_time_spent': [120, 80, 60, 90, 110],\n",
        "        'avg_transaction_value': [500, 2000, 1000, 1500, 800],\n",
        "        'avg_frequency_login_days': [2, 10, 7, 3, 5],\n",
        "        'points_in_wallet': [100, 500, 200, 300, 50],\n",
        "        'used_special_discount': ['Yes', 'No', 'No', 'Yes', 'Yes'],\n",
        "        'offer_application_preference': ['Yes', 'No', 'Yes', 'Yes', 'No'],\n",
        "        'past_complaint': ['No', 'No', 'Yes', 'No', 'Yes'],\n",
        "        'complaint_status': ['Not Applicable', 'Not Applicable', 'Solved', 'Not Applicable', 'Unsolved'],\n",
        "        'feedback': ['Too many ads', 'Poor Customer Service', 'Poor Customer Service', 'No reason specified', 'No reason specified']\n",
        "        }"
      ],
      "metadata": {
        "id": "bXD1iF3sYICO"
      },
      "execution_count": 5,
      "outputs": []
    },
    {
      "cell_type": "code",
      "source": [
        "df = pd.DataFrame(data)"
      ],
      "metadata": {
        "id": "Jou-AozdZpGT"
      },
      "execution_count": 6,
      "outputs": []
    },
    {
      "cell_type": "markdown",
      "source": [
        "## 4. Apply preprocessing and prediction using ANN model"
      ],
      "metadata": {
        "id": "q7D_Pa7oaCQ2"
      }
    },
    {
      "cell_type": "code",
      "source": [
        "X = preprocessing_pipeline.transform(df)\n",
        "\n",
        "y_pred = ann_model.predict(X)"
      ],
      "metadata": {
        "colab": {
          "base_uri": "https://localhost:8080/"
        },
        "id": "x-sfzK8aZvHZ",
        "outputId": "fc06e898-350e-4cfe-dacb-c607dc25c783"
      },
      "execution_count": 7,
      "outputs": [
        {
          "output_type": "stream",
          "name": "stdout",
          "text": [
            "1/1 [==============================] - 0s 267ms/step\n"
          ]
        }
      ]
    },
    {
      "cell_type": "markdown",
      "source": [
        "## 5.Print the result"
      ],
      "metadata": {
        "id": "BQtu2cmRaJRE"
      }
    },
    {
      "cell_type": "code",
      "source": [
        "print(y_pred)"
      ],
      "metadata": {
        "colab": {
          "base_uri": "https://localhost:8080/"
        },
        "id": "TF9yEgc_ZxtF",
        "outputId": "042e98f0-04a9-429d-a288-b6c7365d0761"
      },
      "execution_count": 8,
      "outputs": [
        {
          "output_type": "stream",
          "name": "stdout",
          "text": [
            "[[0.8145089 ]\n",
            " [0.19759656]\n",
            " [0.387666  ]\n",
            " [0.6024089 ]\n",
            " [0.83399343]]\n"
          ]
        }
      ]
    },
    {
      "cell_type": "markdown",
      "source": [
        "## 6.Print the result with treshold (so answer is 0 or 1)"
      ],
      "metadata": {
        "id": "_tMrEClEaLfh"
      }
    },
    {
      "cell_type": "code",
      "source": [
        "y_pred_thresholded = np.where(y_pred > 0.5, 1, 0)\n",
        "print(y_pred_thresholded)"
      ],
      "metadata": {
        "colab": {
          "base_uri": "https://localhost:8080/"
        },
        "id": "nvHZok29aRCd",
        "outputId": "f0b3e0cf-3f85-40cf-d2e1-0d930bd455b8"
      },
      "execution_count": 10,
      "outputs": [
        {
          "output_type": "stream",
          "name": "stdout",
          "text": [
            "[[1]\n",
            " [0]\n",
            " [0]\n",
            " [1]\n",
            " [1]]\n"
          ]
        }
      ]
    }
  ]
}